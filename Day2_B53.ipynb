{
 "cells": [
  {
   "cell_type": "code",
   "execution_count": null,
   "id": "cafca770",
   "metadata": {},
   "outputs": [],
   "source": [
    "Rules for declaring the variables in python"
   ]
  },
  {
   "cell_type": "code",
   "execution_count": null,
   "id": "4e0cb955",
   "metadata": {},
   "outputs": [],
   "source": [
    "Rule1 => No namespaces while declaring the variable names in python"
   ]
  },
  {
   "cell_type": "code",
   "execution_count": 3,
   "id": "cd38e74f",
   "metadata": {},
   "outputs": [
    {
     "ename": "SyntaxError",
     "evalue": "invalid syntax (<ipython-input-3-0be5df90a51e>, line 1)",
     "output_type": "error",
     "traceback": [
      "\u001b[1;36m  File \u001b[1;32m\"<ipython-input-3-0be5df90a51e>\"\u001b[1;36m, line \u001b[1;32m1\u001b[0m\n\u001b[1;33m    first name = 'Ataullah'\u001b[0m\n\u001b[1;37m          ^\u001b[0m\n\u001b[1;31mSyntaxError\u001b[0m\u001b[1;31m:\u001b[0m invalid syntax\n"
     ]
    }
   ],
   "source": [
    "first name = 'Ataullah'\n",
    "print(first name)"
   ]
  },
  {
   "cell_type": "code",
   "execution_count": 4,
   "id": "025dcdad",
   "metadata": {},
   "outputs": [
    {
     "name": "stdout",
     "output_type": "stream",
     "text": [
      "Ataullah\n"
     ]
    }
   ],
   "source": [
    "firstname = 'Ataullah'\n",
    "print (firstname)"
   ]
  },
  {
   "cell_type": "code",
   "execution_count": 6,
   "id": "ed0ada73",
   "metadata": {},
   "outputs": [
    {
     "name": "stdout",
     "output_type": "stream",
     "text": [
      "Ataullah\n"
     ]
    }
   ],
   "source": [
    "first_name = 'Ataullah'\n",
    "print (first_name)"
   ]
  },
  {
   "cell_type": "code",
   "execution_count": null,
   "id": "4dcf4f19",
   "metadata": {},
   "outputs": [],
   "source": []
  },
  {
   "cell_type": "code",
   "execution_count": null,
   "id": "1ba506e2",
   "metadata": {},
   "outputs": [],
   "source": [
    "Rule2 => A variable name should not start with number"
   ]
  },
  {
   "cell_type": "code",
   "execution_count": 8,
   "id": "4b3e4761",
   "metadata": {},
   "outputs": [
    {
     "ename": "SyntaxError",
     "evalue": "invalid syntax (<ipython-input-8-58e3b2a40b8c>, line 1)",
     "output_type": "error",
     "traceback": [
      "\u001b[1;36m  File \u001b[1;32m\"<ipython-input-8-58e3b2a40b8c>\"\u001b[1;36m, line \u001b[1;32m1\u001b[0m\n\u001b[1;33m    1name = 'Ataullah'\u001b[0m\n\u001b[1;37m     ^\u001b[0m\n\u001b[1;31mSyntaxError\u001b[0m\u001b[1;31m:\u001b[0m invalid syntax\n"
     ]
    }
   ],
   "source": [
    "1name = 'Ataullah'\n",
    "print(1name)"
   ]
  },
  {
   "cell_type": "code",
   "execution_count": 9,
   "id": "6902c1f5",
   "metadata": {},
   "outputs": [
    {
     "name": "stdout",
     "output_type": "stream",
     "text": [
      "Ataullah\n"
     ]
    }
   ],
   "source": [
    "name1 = 'Ataullah'\n",
    "print(name1)"
   ]
  },
  {
   "cell_type": "code",
   "execution_count": null,
   "id": "7f1d214b",
   "metadata": {},
   "outputs": [],
   "source": []
  },
  {
   "cell_type": "code",
   "execution_count": null,
   "id": "b57d1147",
   "metadata": {},
   "outputs": [],
   "source": [
    "Rule3 => A variable should contain special charater\n",
    "eg., @#$%&"
   ]
  },
  {
   "cell_type": "code",
   "execution_count": 10,
   "id": "696a0c10",
   "metadata": {},
   "outputs": [
    {
     "ename": "SyntaxError",
     "evalue": "invalid syntax (<ipython-input-10-540d1357fb2b>, line 1)",
     "output_type": "error",
     "traceback": [
      "\u001b[1;36m  File \u001b[1;32m\"<ipython-input-10-540d1357fb2b>\"\u001b[1;36m, line \u001b[1;32m1\u001b[0m\n\u001b[1;33m    name@ = 'Ali'\u001b[0m\n\u001b[1;37m          ^\u001b[0m\n\u001b[1;31mSyntaxError\u001b[0m\u001b[1;31m:\u001b[0m invalid syntax\n"
     ]
    }
   ],
   "source": [
    "name@ = 'Ali'\n",
    "print(name@)"
   ]
  },
  {
   "cell_type": "code",
   "execution_count": null,
   "id": "b19e3d13",
   "metadata": {},
   "outputs": [],
   "source": []
  },
  {
   "cell_type": "code",
   "execution_count": null,
   "id": "caae2daa",
   "metadata": {},
   "outputs": [],
   "source": [
    "Introduction to string datatypes :"
   ]
  },
  {
   "cell_type": "code",
   "execution_count": null,
   "id": "7c0b06da",
   "metadata": {},
   "outputs": [],
   "source": [
    "3 Possible combinations\n",
    "\n",
    "    1. Single quotes\n",
    "    2. Double quotes\n",
    "    3. Triple quotes"
   ]
  },
  {
   "cell_type": "code",
   "execution_count": 11,
   "id": "4a272f98",
   "metadata": {},
   "outputs": [
    {
     "name": "stdout",
     "output_type": "stream",
     "text": [
      "saad\n"
     ]
    }
   ],
   "source": [
    "name = 'saad' #single quote\n",
    "print(name)"
   ]
  },
  {
   "cell_type": "code",
   "execution_count": 12,
   "id": "ec47c63e",
   "metadata": {},
   "outputs": [
    {
     "name": "stdout",
     "output_type": "stream",
     "text": [
      "saad\n"
     ]
    }
   ],
   "source": [
    "name = \"saad\" # double quote\n",
    "print(name)"
   ]
  },
  {
   "cell_type": "code",
   "execution_count": 13,
   "id": "5d0c96e4",
   "metadata": {},
   "outputs": [
    {
     "name": "stdout",
     "output_type": "stream",
     "text": [
      "saad\n"
     ]
    }
   ],
   "source": [
    "name = \"\"\"saad\"\"\" # triple quote\n",
    "print(name)"
   ]
  },
  {
   "cell_type": "code",
   "execution_count": null,
   "id": "a6411e9c",
   "metadata": {},
   "outputs": [],
   "source": []
  },
  {
   "cell_type": "code",
   "execution_count": null,
   "id": "320044ad",
   "metadata": {},
   "outputs": [],
   "source": [
    "Introduction to string methods :\n",
    "\n",
    "Methodas are builin programs that are available to use."
   ]
  },
  {
   "cell_type": "code",
   "execution_count": null,
   "id": "d92d9361",
   "metadata": {},
   "outputs": [],
   "source": [
    "Type : it is use to check and validate datatype"
   ]
  },
  {
   "cell_type": "code",
   "execution_count": null,
   "id": "5cebd0fd",
   "metadata": {},
   "outputs": [],
   "source": []
  },
  {
   "cell_type": "code",
   "execution_count": 14,
   "id": "dbb4d45b",
   "metadata": {},
   "outputs": [
    {
     "data": {
      "text/plain": [
       "str"
      ]
     },
     "execution_count": 14,
     "metadata": {},
     "output_type": "execute_result"
    }
   ],
   "source": [
    "type(name)"
   ]
  },
  {
   "cell_type": "code",
   "execution_count": 15,
   "id": "4e164b6a",
   "metadata": {},
   "outputs": [
    {
     "data": {
      "text/plain": [
       "str"
      ]
     },
     "execution_count": 15,
     "metadata": {},
     "output_type": "execute_result"
    }
   ],
   "source": [
    "type(name1)"
   ]
  },
  {
   "cell_type": "code",
   "execution_count": null,
   "id": "56e0592c",
   "metadata": {},
   "outputs": [],
   "source": []
  },
  {
   "cell_type": "code",
   "execution_count": 17,
   "id": "8411b1b2",
   "metadata": {},
   "outputs": [
    {
     "name": "stdout",
     "output_type": "stream",
     "text": [
      "ataullah kadak\n"
     ]
    }
   ],
   "source": [
    "fullname = 'ataullah kadak'\n",
    "print(fullname)"
   ]
  },
  {
   "cell_type": "code",
   "execution_count": null,
   "id": "fcb858ad",
   "metadata": {},
   "outputs": [],
   "source": [
    "#req1: First letter of each word should be capital"
   ]
  },
  {
   "cell_type": "code",
   "execution_count": 18,
   "id": "329a2088",
   "metadata": {},
   "outputs": [
    {
     "name": "stdout",
     "output_type": "stream",
     "text": [
      "Ataullah Kadak\n"
     ]
    }
   ],
   "source": [
    "print(fullname.title())"
   ]
  },
  {
   "cell_type": "code",
   "execution_count": null,
   "id": "55df11b9",
   "metadata": {},
   "outputs": [],
   "source": [
    "#req2: Complete name should be in Capital letters"
   ]
  },
  {
   "cell_type": "code",
   "execution_count": 19,
   "id": "a536a10c",
   "metadata": {},
   "outputs": [
    {
     "name": "stdout",
     "output_type": "stream",
     "text": [
      "ATAULLAH KADAK\n"
     ]
    }
   ],
   "source": [
    "print(fullname.upper())"
   ]
  },
  {
   "cell_type": "code",
   "execution_count": null,
   "id": "5ee09f01",
   "metadata": {},
   "outputs": [],
   "source": [
    "#req3: Complete name should be in small letters"
   ]
  },
  {
   "cell_type": "code",
   "execution_count": 20,
   "id": "07bfc324",
   "metadata": {},
   "outputs": [
    {
     "name": "stdout",
     "output_type": "stream",
     "text": [
      "ataullah kadak\n"
     ]
    }
   ],
   "source": [
    "print(fullname.lower())"
   ]
  },
  {
   "cell_type": "code",
   "execution_count": null,
   "id": "19b8f1c4",
   "metadata": {},
   "outputs": [],
   "source": []
  }
 ],
 "metadata": {
  "kernelspec": {
   "display_name": "Python 3",
   "language": "python",
   "name": "python3"
  },
  "language_info": {
   "codemirror_mode": {
    "name": "ipython",
    "version": 3
   },
   "file_extension": ".py",
   "mimetype": "text/x-python",
   "name": "python",
   "nbconvert_exporter": "python",
   "pygments_lexer": "ipython3",
   "version": "3.8.8"
  }
 },
 "nbformat": 4,
 "nbformat_minor": 5
}
