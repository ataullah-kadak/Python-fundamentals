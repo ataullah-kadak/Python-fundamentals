{
 "cells": [
  {
   "cell_type": "code",
   "execution_count": null,
   "id": "5eeedbbe",
   "metadata": {},
   "outputs": [],
   "source": [
    "#Introduction to f strings:"
   ]
  },
  {
   "cell_type": "code",
   "execution_count": null,
   "id": "b4826a68",
   "metadata": {},
   "outputs": [],
   "source": [
    "=> General syntax of f strings :\n",
    "    f\"custom word {placeholder-1} {placeholder-2}.....{placeholder-n}\""
   ]
  },
  {
   "cell_type": "code",
   "execution_count": null,
   "id": "702c4a22",
   "metadata": {},
   "outputs": [],
   "source": []
  },
  {
   "cell_type": "code",
   "execution_count": 1,
   "id": "04c4d510",
   "metadata": {},
   "outputs": [],
   "source": [
    "first_name = 'sameer'\n",
    "last_name = 'mannur'"
   ]
  },
  {
   "cell_type": "code",
   "execution_count": null,
   "id": "c07b4116",
   "metadata": {},
   "outputs": [],
   "source": []
  },
  {
   "cell_type": "code",
   "execution_count": null,
   "id": "afaa3a07",
   "metadata": {},
   "outputs": [],
   "source": [
    "#req: want to get full name,"
   ]
  },
  {
   "cell_type": "code",
   "execution_count": null,
   "id": "e7dc6b1d",
   "metadata": {},
   "outputs": [],
   "source": []
  },
  {
   "cell_type": "code",
   "execution_count": 2,
   "id": "255f6257",
   "metadata": {},
   "outputs": [
    {
     "name": "stdout",
     "output_type": "stream",
     "text": [
      "sameer mannur\n"
     ]
    }
   ],
   "source": [
    "fullname = f\"{first_name} {last_name}\"\n",
    "\n",
    "print(fullname)"
   ]
  },
  {
   "cell_type": "code",
   "execution_count": null,
   "id": "6d50cafc",
   "metadata": {},
   "outputs": [],
   "source": []
  },
  {
   "cell_type": "code",
   "execution_count": null,
   "id": "44b40e63",
   "metadata": {},
   "outputs": [],
   "source": [
    "#req: want to greet sameer..."
   ]
  },
  {
   "cell_type": "code",
   "execution_count": 3,
   "id": "f02dc0f0",
   "metadata": {},
   "outputs": [
    {
     "name": "stdout",
     "output_type": "stream",
     "text": [
      "Hello,sameer mannur\n"
     ]
    }
   ],
   "source": [
    "print(f'Hello,{fullname}')"
   ]
  },
  {
   "cell_type": "code",
   "execution_count": null,
   "id": "487ace0a",
   "metadata": {},
   "outputs": [],
   "source": [
    "=> correcting the format..."
   ]
  },
  {
   "cell_type": "code",
   "execution_count": 4,
   "id": "27746df8",
   "metadata": {},
   "outputs": [
    {
     "name": "stdout",
     "output_type": "stream",
     "text": [
      "Hello, Sameer Mannur\n"
     ]
    }
   ],
   "source": [
    "print(f'Hello, {fullname.title()}')"
   ]
  },
  {
   "cell_type": "code",
   "execution_count": null,
   "id": "bcd2ed56",
   "metadata": {},
   "outputs": [],
   "source": []
  },
  {
   "cell_type": "code",
   "execution_count": null,
   "id": "8762981c",
   "metadata": {},
   "outputs": [],
   "source": [
    "#Addding whitespaces to strings:"
   ]
  },
  {
   "cell_type": "code",
   "execution_count": null,
   "id": "2ec24dbb",
   "metadata": {},
   "outputs": [],
   "source": [
    "let consider your favourite sports are...\n",
    "Cricket, kabaddi, football n hockey"
   ]
  },
  {
   "cell_type": "code",
   "execution_count": 12,
   "id": "8cc4dae1",
   "metadata": {},
   "outputs": [
    {
     "name": "stdout",
     "output_type": "stream",
     "text": [
      "favourite sports:Cricketkabaddifootballhockey\n"
     ]
    }
   ],
   "source": [
    "print(\"favourite sports:Cricketkabaddifootballhockey\")"
   ]
  },
  {
   "cell_type": "code",
   "execution_count": null,
   "id": "315e77bf",
   "metadata": {},
   "outputs": [],
   "source": [
    "It is completely unreadable and jumbling.\n",
    "So now add \\n between each word"
   ]
  },
  {
   "cell_type": "code",
   "execution_count": 13,
   "id": "f4623e50",
   "metadata": {},
   "outputs": [
    {
     "name": "stdout",
     "output_type": "stream",
     "text": [
      "favourite sports:\n",
      "Cricket\n",
      "kabaddi\n",
      "football\n",
      "hockey\n"
     ]
    }
   ],
   "source": [
    "print(\"favourite sports:\\nCricket\\nkabaddi\\nfootball\\nhockey\")"
   ]
  },
  {
   "cell_type": "code",
   "execution_count": null,
   "id": "1e084d65",
   "metadata": {},
   "outputs": [],
   "source": [
    "\\n ---> new line delimeter, it will print from a new line."
   ]
  },
  {
   "cell_type": "code",
   "execution_count": null,
   "id": "1c6a6a60",
   "metadata": {},
   "outputs": [],
   "source": []
  },
  {
   "cell_type": "code",
   "execution_count": 14,
   "id": "d29889a2",
   "metadata": {},
   "outputs": [
    {
     "name": "stdout",
     "output_type": "stream",
     "text": [
      "favourite sports:\n",
      "\tCricket\n",
      "\tkabaddi\n",
      "\tfootball\n",
      "\thockey\n"
     ]
    }
   ],
   "source": [
    "print(\"favourite sports:\\n\\tCricket\\n\\tkabaddi\\n\\tfootball\\n\\thockey\")"
   ]
  },
  {
   "cell_type": "code",
   "execution_count": null,
   "id": "54fc7d6f",
   "metadata": {},
   "outputs": [],
   "source": [
    "\\t ---> tab delimeter"
   ]
  },
  {
   "cell_type": "code",
   "execution_count": null,
   "id": "cb1fcb8a",
   "metadata": {},
   "outputs": [],
   "source": []
  },
  {
   "cell_type": "code",
   "execution_count": null,
   "id": "a93cdec5",
   "metadata": {},
   "outputs": [],
   "source": [
    "#Removing whitespaces from strings:"
   ]
  },
  {
   "cell_type": "code",
   "execution_count": null,
   "id": "fe972cb3",
   "metadata": {},
   "outputs": [],
   "source": []
  },
  {
   "cell_type": "code",
   "execution_count": 15,
   "id": "1aa0fb15",
   "metadata": {},
   "outputs": [
    {
     "name": "stdout",
     "output_type": "stream",
     "text": [
      "thunder\n"
     ]
    }
   ],
   "source": [
    "name = 'thunder'\n",
    "print(name)"
   ]
  },
  {
   "cell_type": "code",
   "execution_count": 17,
   "id": "e1cfbe7f",
   "metadata": {},
   "outputs": [
    {
     "name": "stdout",
     "output_type": "stream",
     "text": [
      "   starts\n"
     ]
    }
   ],
   "source": [
    "name1 = '   starts'     here is left side gap so we use --- lstrip.\n",
    "print(name1)"
   ]
  },
  {
   "cell_type": "code",
   "execution_count": 20,
   "id": "26b638ed",
   "metadata": {},
   "outputs": [
    {
     "name": "stdout",
     "output_type": "stream",
     "text": [
      "moon   \n"
     ]
    }
   ],
   "source": [
    "name2 = 'moon   '       here is right side gap so we use --- rstrip.\n",
    "print(name2)"
   ]
  },
  {
   "cell_type": "code",
   "execution_count": null,
   "id": "55726f9e",
   "metadata": {},
   "outputs": [],
   "source": []
  },
  {
   "cell_type": "code",
   "execution_count": 21,
   "id": "8223e274",
   "metadata": {},
   "outputs": [
    {
     "data": {
      "text/plain": [
       "'starts'"
      ]
     },
     "execution_count": 21,
     "metadata": {},
     "output_type": "execute_result"
    }
   ],
   "source": [
    "name1.lstrip()"
   ]
  },
  {
   "cell_type": "code",
   "execution_count": 22,
   "id": "9db2d77b",
   "metadata": {},
   "outputs": [
    {
     "data": {
      "text/plain": [
       "'moon'"
      ]
     },
     "execution_count": 22,
     "metadata": {},
     "output_type": "execute_result"
    }
   ],
   "source": [
    "name2.rstrip()"
   ]
  },
  {
   "cell_type": "code",
   "execution_count": null,
   "id": "88e97352",
   "metadata": {},
   "outputs": [],
   "source": []
  },
  {
   "cell_type": "code",
   "execution_count": 23,
   "id": "5f000b10",
   "metadata": {},
   "outputs": [
    {
     "name": "stdout",
     "output_type": "stream",
     "text": [
      "   sky   \n"
     ]
    }
   ],
   "source": [
    "name3 = '   sky   '       here is both side gap so we use only --- strip\n",
    "print(name3)"
   ]
  },
  {
   "cell_type": "code",
   "execution_count": 24,
   "id": "c4894361",
   "metadata": {},
   "outputs": [
    {
     "data": {
      "text/plain": [
       "'sky'"
      ]
     },
     "execution_count": 24,
     "metadata": {},
     "output_type": "execute_result"
    }
   ],
   "source": [
    "name3.strip()"
   ]
  },
  {
   "cell_type": "code",
   "execution_count": null,
   "id": "346eef41",
   "metadata": {},
   "outputs": [],
   "source": []
  }
 ],
 "metadata": {
  "kernelspec": {
   "display_name": "Python 3",
   "language": "python",
   "name": "python3"
  },
  "language_info": {
   "codemirror_mode": {
    "name": "ipython",
    "version": 3
   },
   "file_extension": ".py",
   "mimetype": "text/x-python",
   "name": "python",
   "nbconvert_exporter": "python",
   "pygments_lexer": "ipython3",
   "version": "3.8.8"
  }
 },
 "nbformat": 4,
 "nbformat_minor": 5
}
