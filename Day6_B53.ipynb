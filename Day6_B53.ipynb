{
 "cells": [
  {
   "cell_type": "code",
   "execution_count": null,
   "id": "2c596ec5",
   "metadata": {},
   "outputs": [],
   "source": [
    "continuation with the list."
   ]
  },
  {
   "cell_type": "code",
   "execution_count": null,
   "id": "ce0d2e4e",
   "metadata": {},
   "outputs": [],
   "source": []
  },
  {
   "cell_type": "code",
   "execution_count": 1,
   "id": "af59b5f3",
   "metadata": {},
   "outputs": [],
   "source": [
    "students = ['divya','suraj','rahul','iqra','aziz','aamir']"
   ]
  },
  {
   "cell_type": "code",
   "execution_count": 2,
   "id": "6c626bd0",
   "metadata": {},
   "outputs": [
    {
     "name": "stdout",
     "output_type": "stream",
     "text": [
      "['divya', 'suraj', 'rahul', 'iqra', 'aziz', 'aamir']\n"
     ]
    }
   ],
   "source": [
    "print(students)"
   ]
  },
  {
   "cell_type": "code",
   "execution_count": null,
   "id": "19d38e71",
   "metadata": {},
   "outputs": [],
   "source": []
  },
  {
   "cell_type": "code",
   "execution_count": null,
   "id": "e76368b0",
   "metadata": {},
   "outputs": [],
   "source": [
    "#req: want to appriciate the above students in the list;"
   ]
  },
  {
   "cell_type": "code",
   "execution_count": 3,
   "id": "b352b654",
   "metadata": {},
   "outputs": [
    {
     "name": "stdout",
     "output_type": "stream",
     "text": [
      "keep up the good work, divya\n"
     ]
    }
   ],
   "source": [
    "print(f\"keep up the good work, {students[0]}\")"
   ]
  },
  {
   "cell_type": "code",
   "execution_count": 4,
   "id": "0bb45f4e",
   "metadata": {},
   "outputs": [
    {
     "name": "stdout",
     "output_type": "stream",
     "text": [
      "keep up the good work, suraj\n"
     ]
    }
   ],
   "source": [
    "print(f\"keep up the good work, {students[1]}\")"
   ]
  },
  {
   "cell_type": "code",
   "execution_count": null,
   "id": "21e082e6",
   "metadata": {},
   "outputs": [],
   "source": []
  },
  {
   "cell_type": "code",
   "execution_count": null,
   "id": "6f2a4b13",
   "metadata": {},
   "outputs": [],
   "source": [
    "Doing so for each student will consume more time. So it comes looping statement."
   ]
  },
  {
   "cell_type": "code",
   "execution_count": null,
   "id": "f47577d1",
   "metadata": {},
   "outputs": [],
   "source": [
    "Introduction to looping statement:\n",
    "    \n",
    "Understanding for loop;"
   ]
  },
  {
   "cell_type": "code",
   "execution_count": null,
   "id": "e0ef166a",
   "metadata": {},
   "outputs": [],
   "source": []
  },
  {
   "cell_type": "code",
   "execution_count": null,
   "id": "8bf6952a",
   "metadata": {},
   "outputs": [],
   "source": [
    "#General syntax of a loop;"
   ]
  },
  {
   "cell_type": "code",
   "execution_count": null,
   "id": "bbb60955",
   "metadata": {},
   "outputs": [],
   "source": [
    "for tempvar in mainvar:\n",
    "    print(tempvar)"
   ]
  },
  {
   "cell_type": "code",
   "execution_count": null,
   "id": "993704f2",
   "metadata": {},
   "outputs": [],
   "source": [
    "tempvar---> can be any name we are declaring. x,y anything."
   ]
  },
  {
   "cell_type": "code",
   "execution_count": null,
   "id": "d7a5a0fa",
   "metadata": {},
   "outputs": [],
   "source": []
  },
  {
   "cell_type": "code",
   "execution_count": 5,
   "id": "51d204a4",
   "metadata": {},
   "outputs": [
    {
     "name": "stdout",
     "output_type": "stream",
     "text": [
      "keep up the goodwork, divya\n",
      "keep up the goodwork, suraj\n",
      "keep up the goodwork, rahul\n",
      "keep up the goodwork, iqra\n",
      "keep up the goodwork, aziz\n",
      "keep up the goodwork, aamir\n"
     ]
    }
   ],
   "source": [
    "for x in students:\n",
    "    print(f\"keep up the goodwork, {x}\")"
   ]
  },
  {
   "cell_type": "code",
   "execution_count": null,
   "id": "6cbecec8",
   "metadata": {},
   "outputs": [],
   "source": []
  },
  {
   "cell_type": "code",
   "execution_count": null,
   "id": "4a547635",
   "metadata": {},
   "outputs": [],
   "source": []
  },
  {
   "cell_type": "code",
   "execution_count": 6,
   "id": "aadb207a",
   "metadata": {},
   "outputs": [
    {
     "name": "stdout",
     "output_type": "stream",
     "text": [
      "Axis bank wishes you a happy new year, divya\n",
      "Axis bank wishes you a happy new year, suraj\n",
      "Axis bank wishes you a happy new year, rahul\n",
      "Axis bank wishes you a happy new year, iqra\n",
      "Axis bank wishes you a happy new year, aziz\n",
      "Axis bank wishes you a happy new year, aamir\n"
     ]
    }
   ],
   "source": [
    "for y in students:\n",
    "    print(f\"Axis bank wishes you a happy new year, {y}\")"
   ]
  },
  {
   "cell_type": "code",
   "execution_count": null,
   "id": "f4a5c1fa",
   "metadata": {},
   "outputs": [],
   "source": []
  },
  {
   "cell_type": "code",
   "execution_count": null,
   "id": "fc7b49ac",
   "metadata": {},
   "outputs": [],
   "source": [
    "What if we missed Indentation in a loop?"
   ]
  },
  {
   "cell_type": "code",
   "execution_count": 7,
   "id": "2e52150a",
   "metadata": {},
   "outputs": [
    {
     "ename": "IndentationError",
     "evalue": "expected an indented block (<ipython-input-7-aa5c83a902fd>, line 2)",
     "output_type": "error",
     "traceback": [
      "\u001b[1;36m  File \u001b[1;32m\"<ipython-input-7-aa5c83a902fd>\"\u001b[1;36m, line \u001b[1;32m2\u001b[0m\n\u001b[1;33m    print(f\"Axis bank wishes you a happy new year, {y}\")\u001b[0m\n\u001b[1;37m    ^\u001b[0m\n\u001b[1;31mIndentationError\u001b[0m\u001b[1;31m:\u001b[0m expected an indented block\n"
     ]
    }
   ],
   "source": [
    "for y in students:\n",
    "print(f\"Axis bank wishes you a happy new year, {y}\")"
   ]
  },
  {
   "cell_type": "code",
   "execution_count": null,
   "id": "37092db0",
   "metadata": {},
   "outputs": [],
   "source": []
  },
  {
   "cell_type": "code",
   "execution_count": null,
   "id": "ab5924c2",
   "metadata": {},
   "outputs": [],
   "source": [
    "#Enhancement of the code:"
   ]
  },
  {
   "cell_type": "code",
   "execution_count": null,
   "id": "b5ba2525",
   "metadata": {},
   "outputs": [],
   "source": [
    "#req: to convey that i am looking to receive practice file of today:"
   ]
  },
  {
   "cell_type": "code",
   "execution_count": 8,
   "id": "d31009ae",
   "metadata": {},
   "outputs": [
    {
     "name": "stdout",
     "output_type": "stream",
     "text": [
      "keep up the goodwork, divya\n",
      "I am looking to receive practice file of today, divya\n",
      "keep up the goodwork, suraj\n",
      "I am looking to receive practice file of today, suraj\n",
      "keep up the goodwork, rahul\n",
      "I am looking to receive practice file of today, rahul\n",
      "keep up the goodwork, iqra\n",
      "I am looking to receive practice file of today, iqra\n",
      "keep up the goodwork, aziz\n",
      "I am looking to receive practice file of today, aziz\n",
      "keep up the goodwork, aamir\n",
      "I am looking to receive practice file of today, aamir\n"
     ]
    }
   ],
   "source": [
    "for x in students:\n",
    "    print(f\"keep up the goodwork, {x}\")\n",
    "    print(f\"I am looking to receive practice file of today, {x}\")"
   ]
  },
  {
   "cell_type": "code",
   "execution_count": null,
   "id": "510d7505",
   "metadata": {},
   "outputs": [],
   "source": []
  },
  {
   "cell_type": "code",
   "execution_count": 9,
   "id": "1146faa4",
   "metadata": {},
   "outputs": [
    {
     "name": "stdout",
     "output_type": "stream",
     "text": [
      "keep up the goodwork, divya\n",
      "I am looking to receive practice file of today, divya\n",
      "\n",
      "keep up the goodwork, suraj\n",
      "I am looking to receive practice file of today, suraj\n",
      "\n",
      "keep up the goodwork, rahul\n",
      "I am looking to receive practice file of today, rahul\n",
      "\n",
      "keep up the goodwork, iqra\n",
      "I am looking to receive practice file of today, iqra\n",
      "\n",
      "keep up the goodwork, aziz\n",
      "I am looking to receive practice file of today, aziz\n",
      "\n",
      "keep up the goodwork, aamir\n",
      "I am looking to receive practice file of today, aamir\n",
      "\n"
     ]
    }
   ],
   "source": [
    "for x in students:                                                    \n",
    "    print(f\"keep up the goodwork, {x}\")                             \n",
    "    print(f\"I am looking to receive practice file of today, {x}\\n\")   "
   ]
  },
  {
   "cell_type": "code",
   "execution_count": null,
   "id": "d3ab09e4",
   "metadata": {},
   "outputs": [],
   "source": []
  },
  {
   "cell_type": "code",
   "execution_count": 10,
   "id": "93da623a",
   "metadata": {},
   "outputs": [
    {
     "name": "stdout",
     "output_type": "stream",
     "text": [
      "keep up the goodwork, divya\n",
      "I am looking to receive practice file of today, divya\n",
      "\n",
      "keep up the goodwork, suraj\n",
      "I am looking to receive practice file of today, suraj\n",
      "\n",
      "keep up the goodwork, rahul\n",
      "I am looking to receive practice file of today, rahul\n",
      "\n",
      "keep up the goodwork, iqra\n",
      "I am looking to receive practice file of today, iqra\n",
      "\n",
      "keep up the goodwork, aziz\n",
      "I am looking to receive practice file of today, aziz\n",
      "\n",
      "keep up the goodwork, aamir\n",
      "I am looking to receive practice file of today, aamir\n",
      "\n",
      "Thank you all for joining the session today\n"
     ]
    }
   ],
   "source": [
    "for x in students:\n",
    "    print(f\"keep up the goodwork, {x}\")                               } Writing in the loop:\n",
    "    print(f\"I am looking to receive practice file of today, {x}\\n\")   } applied to all the elements in the loop \n",
    "    \n",
    "print(\"Thank you all for joining the session today\")                  } Writing out of the loop"
   ]
  },
  {
   "cell_type": "code",
   "execution_count": null,
   "id": "bad13173",
   "metadata": {},
   "outputs": [],
   "source": []
  }
 ],
 "metadata": {
  "kernelspec": {
   "display_name": "Python 3",
   "language": "python",
   "name": "python3"
  },
  "language_info": {
   "codemirror_mode": {
    "name": "ipython",
    "version": 3
   },
   "file_extension": ".py",
   "mimetype": "text/x-python",
   "name": "python",
   "nbconvert_exporter": "python",
   "pygments_lexer": "ipython3",
   "version": "3.8.8"
  }
 },
 "nbformat": 4,
 "nbformat_minor": 5
}
