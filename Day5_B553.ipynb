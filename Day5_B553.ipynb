{
 "cells": [
  {
   "cell_type": "code",
   "execution_count": null,
   "id": "c2fd8c71",
   "metadata": {},
   "outputs": [],
   "source": [
    "Organising the list datatype:"
   ]
  },
  {
   "cell_type": "code",
   "execution_count": null,
   "id": "81a01198",
   "metadata": {},
   "outputs": [],
   "source": []
  },
  {
   "cell_type": "code",
   "execution_count": 1,
   "id": "dcb98e06",
   "metadata": {},
   "outputs": [],
   "source": [
    "cars = ['ferrari','bmw','audi','benz','renault','mahindara']"
   ]
  },
  {
   "cell_type": "code",
   "execution_count": 2,
   "id": "936f6272",
   "metadata": {},
   "outputs": [
    {
     "name": "stdout",
     "output_type": "stream",
     "text": [
      "['ferrari', 'bmw', 'audi', 'benz', 'renault', 'mahindara']\n"
     ]
    }
   ],
   "source": [
    "print(cars)"
   ]
  },
  {
   "cell_type": "code",
   "execution_count": null,
   "id": "c1d35e25",
   "metadata": {},
   "outputs": [],
   "source": []
  },
  {
   "cell_type": "code",
   "execution_count": null,
   "id": "4f1114a5",
   "metadata": {},
   "outputs": [],
   "source": [
    "#req: organise the above list in an alphabetical order; (A to Z)"
   ]
  },
  {
   "cell_type": "code",
   "execution_count": null,
   "id": "a52cac97",
   "metadata": {},
   "outputs": [],
   "source": [
    "1. Temparory approach; sorted "
   ]
  },
  {
   "cell_type": "code",
   "execution_count": 3,
   "id": "20bfaf4b",
   "metadata": {},
   "outputs": [
    {
     "name": "stdout",
     "output_type": "stream",
     "text": [
      "['audi', 'benz', 'bmw', 'ferrari', 'mahindara', 'renault']\n"
     ]
    }
   ],
   "source": [
    "print(sorted(cars))"
   ]
  },
  {
   "cell_type": "code",
   "execution_count": 4,
   "id": "d397ad09",
   "metadata": {},
   "outputs": [
    {
     "name": "stdout",
     "output_type": "stream",
     "text": [
      "['ferrari', 'bmw', 'audi', 'benz', 'renault', 'mahindara']\n"
     ]
    }
   ],
   "source": [
    "print(cars)"
   ]
  },
  {
   "cell_type": "code",
   "execution_count": null,
   "id": "1f63384a",
   "metadata": {},
   "outputs": [],
   "source": []
  },
  {
   "cell_type": "code",
   "execution_count": null,
   "id": "5cf08b84",
   "metadata": {},
   "outputs": [],
   "source": [
    "2. Permanent approach; sort()"
   ]
  },
  {
   "cell_type": "code",
   "execution_count": 6,
   "id": "aec8951e",
   "metadata": {},
   "outputs": [],
   "source": [
    "cars.sort()"
   ]
  },
  {
   "cell_type": "code",
   "execution_count": 7,
   "id": "e8ccdf00",
   "metadata": {},
   "outputs": [
    {
     "name": "stdout",
     "output_type": "stream",
     "text": [
      "['audi', 'benz', 'bmw', 'ferrari', 'mahindara', 'renault']\n"
     ]
    }
   ],
   "source": [
    "print(cars)"
   ]
  },
  {
   "cell_type": "code",
   "execution_count": null,
   "id": "e5ba8474",
   "metadata": {},
   "outputs": [],
   "source": []
  },
  {
   "cell_type": "code",
   "execution_count": null,
   "id": "3979e57a",
   "metadata": {},
   "outputs": [],
   "source": [
    "#req: want to print the list in opposite order; (Z to A) "
   ]
  },
  {
   "cell_type": "code",
   "execution_count": 8,
   "id": "db1bbe4f",
   "metadata": {},
   "outputs": [],
   "source": [
    "cars.reverse()"
   ]
  },
  {
   "cell_type": "code",
   "execution_count": 9,
   "id": "b1dae769",
   "metadata": {},
   "outputs": [
    {
     "name": "stdout",
     "output_type": "stream",
     "text": [
      "['renault', 'mahindara', 'ferrari', 'bmw', 'benz', 'audi']\n"
     ]
    }
   ],
   "source": [
    "print(cars)"
   ]
  },
  {
   "cell_type": "code",
   "execution_count": null,
   "id": "427874a3",
   "metadata": {},
   "outputs": [],
   "source": []
  },
  {
   "cell_type": "code",
   "execution_count": null,
   "id": "7b2183ba",
   "metadata": {},
   "outputs": [],
   "source": [
    "#req: How to count the number of elements in the list;"
   ]
  },
  {
   "cell_type": "code",
   "execution_count": 10,
   "id": "940229bc",
   "metadata": {},
   "outputs": [
    {
     "data": {
      "text/plain": [
       "6"
      ]
     },
     "execution_count": 10,
     "metadata": {},
     "output_type": "execute_result"
    }
   ],
   "source": [
    "len(cars)"
   ]
  },
  {
   "cell_type": "code",
   "execution_count": null,
   "id": "1b029124",
   "metadata": {},
   "outputs": [],
   "source": []
  },
  {
   "cell_type": "code",
   "execution_count": null,
   "id": "610294e2",
   "metadata": {},
   "outputs": [],
   "source": [
    "Introduction of Slicing:"
   ]
  },
  {
   "cell_type": "code",
   "execution_count": 11,
   "id": "7ddf1192",
   "metadata": {},
   "outputs": [],
   "source": [
    "students = ['akhil','rehan','saba','sameer','ramesh','rohit']"
   ]
  },
  {
   "cell_type": "code",
   "execution_count": 12,
   "id": "3b5a6488",
   "metadata": {},
   "outputs": [
    {
     "name": "stdout",
     "output_type": "stream",
     "text": [
      "['akhil', 'rehan', 'saba', 'sameer', 'ramesh', 'rohit']\n"
     ]
    }
   ],
   "source": [
    "print(students)"
   ]
  },
  {
   "cell_type": "code",
   "execution_count": null,
   "id": "e7889619",
   "metadata": {},
   "outputs": [],
   "source": []
  },
  {
   "cell_type": "code",
   "execution_count": null,
   "id": "6132aa55",
   "metadata": {},
   "outputs": [],
   "source": [
    "startvalue:stopvalue:stepcount\n",
    "        \n",
    "Note: stopvalue is always exclusive, to to include the stop value we have to add +1.\n",
    "    "
   ]
  },
  {
   "cell_type": "code",
   "execution_count": null,
   "id": "6c5e839f",
   "metadata": {},
   "outputs": [],
   "source": []
  },
  {
   "cell_type": "code",
   "execution_count": null,
   "id": "f83c2ede",
   "metadata": {},
   "outputs": [],
   "source": [
    "#req: want to add akhil and rehan in one slice;"
   ]
  },
  {
   "cell_type": "code",
   "execution_count": 13,
   "id": "33ab0ce4",
   "metadata": {},
   "outputs": [
    {
     "name": "stdout",
     "output_type": "stream",
     "text": [
      "['akhil', 'rehan']\n"
     ]
    }
   ],
   "source": [
    "print(students[0:2])"
   ]
  },
  {
   "cell_type": "code",
   "execution_count": null,
   "id": "5c9cd273",
   "metadata": {},
   "outputs": [],
   "source": []
  },
  {
   "cell_type": "code",
   "execution_count": null,
   "id": "e5c6cf61",
   "metadata": {},
   "outputs": [],
   "source": [
    "#req: want to add saba and sameer in one slice;"
   ]
  },
  {
   "cell_type": "code",
   "execution_count": 14,
   "id": "ee24f9fe",
   "metadata": {},
   "outputs": [
    {
     "name": "stdout",
     "output_type": "stream",
     "text": [
      "['saba', 'sameer']\n"
     ]
    }
   ],
   "source": [
    "print(students[2:4])"
   ]
  },
  {
   "cell_type": "code",
   "execution_count": null,
   "id": "2cfcdbfc",
   "metadata": {},
   "outputs": [],
   "source": []
  },
  {
   "cell_type": "code",
   "execution_count": null,
   "id": "59fc8a62",
   "metadata": {},
   "outputs": [],
   "source": [
    "#req: want to add ramesh and rohit in one slice;"
   ]
  },
  {
   "cell_type": "code",
   "execution_count": 16,
   "id": "15119e12",
   "metadata": {},
   "outputs": [
    {
     "name": "stdout",
     "output_type": "stream",
     "text": [
      "['ramesh', 'rohit']\n"
     ]
    }
   ],
   "source": [
    "print(students[4:6])"
   ]
  },
  {
   "cell_type": "code",
   "execution_count": null,
   "id": "9422859b",
   "metadata": {},
   "outputs": [],
   "source": []
  },
  {
   "cell_type": "code",
   "execution_count": 18,
   "id": "8f36ceea",
   "metadata": {},
   "outputs": [
    {
     "name": "stdout",
     "output_type": "stream",
     "text": [
      "['akhil', 'rehan', 'saba', 'sameer', 'ramesh', 'rohit']\n"
     ]
    }
   ],
   "source": [
    "print(students)"
   ]
  },
  {
   "cell_type": "code",
   "execution_count": null,
   "id": "30b11cc3",
   "metadata": {},
   "outputs": [],
   "source": []
  },
  {
   "cell_type": "code",
   "execution_count": null,
   "id": "d74f71ca",
   "metadata": {},
   "outputs": [],
   "source": [
    "#req: want to add akhil, saba and rohit in one slice;"
   ]
  },
  {
   "cell_type": "code",
   "execution_count": 19,
   "id": "739ecaee",
   "metadata": {},
   "outputs": [
    {
     "name": "stdout",
     "output_type": "stream",
     "text": [
      "['akhil', 'saba', 'ramesh']\n"
     ]
    }
   ],
   "source": [
    "print(students[0:6:2])"
   ]
  },
  {
   "cell_type": "code",
   "execution_count": null,
   "id": "5dd9f9a2",
   "metadata": {},
   "outputs": [],
   "source": []
  },
  {
   "cell_type": "code",
   "execution_count": null,
   "id": "1c55d23a",
   "metadata": {},
   "outputs": [],
   "source": []
  }
 ],
 "metadata": {
  "kernelspec": {
   "display_name": "Python 3",
   "language": "python",
   "name": "python3"
  },
  "language_info": {
   "codemirror_mode": {
    "name": "ipython",
    "version": 3
   },
   "file_extension": ".py",
   "mimetype": "text/x-python",
   "name": "python",
   "nbconvert_exporter": "python",
   "pygments_lexer": "ipython3",
   "version": "3.8.8"
  }
 },
 "nbformat": 4,
 "nbformat_minor": 5
}
