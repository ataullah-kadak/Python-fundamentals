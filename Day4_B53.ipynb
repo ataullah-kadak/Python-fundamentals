{
 "cells": [
  {
   "cell_type": "code",
   "execution_count": null,
   "id": "2fff1937",
   "metadata": {},
   "outputs": [],
   "source": [
    "# Introduction to list datatype:"
   ]
  },
  {
   "cell_type": "code",
   "execution_count": null,
   "id": "9f7576af",
   "metadata": {},
   "outputs": [],
   "source": [
    "* How to declare a list ---- []"
   ]
  },
  {
   "cell_type": "code",
   "execution_count": null,
   "id": "cbecbb46",
   "metadata": {},
   "outputs": [],
   "source": []
  },
  {
   "cell_type": "code",
   "execution_count": 1,
   "id": "0c606456",
   "metadata": {},
   "outputs": [],
   "source": [
    "students = ['amar', 'zain', 'ali', 'sam', 'reha', 'ahmar']"
   ]
  },
  {
   "cell_type": "code",
   "execution_count": 2,
   "id": "914e2219",
   "metadata": {},
   "outputs": [
    {
     "name": "stdout",
     "output_type": "stream",
     "text": [
      "['amar', 'zain', 'ali', 'sam', 'reha', 'ahmar']\n"
     ]
    }
   ],
   "source": [
    "print(students)"
   ]
  },
  {
   "cell_type": "code",
   "execution_count": null,
   "id": "4e6f0fc6",
   "metadata": {},
   "outputs": [],
   "source": []
  },
  {
   "cell_type": "code",
   "execution_count": 3,
   "id": "33883a09",
   "metadata": {},
   "outputs": [
    {
     "data": {
      "text/plain": [
       "list"
      ]
     },
     "execution_count": 3,
     "metadata": {},
     "output_type": "execute_result"
    }
   ],
   "source": [
    "type(students)"
   ]
  },
  {
   "cell_type": "code",
   "execution_count": null,
   "id": "51e51291",
   "metadata": {},
   "outputs": [],
   "source": []
  },
  {
   "cell_type": "code",
   "execution_count": null,
   "id": "c874f9bb",
   "metadata": {},
   "outputs": [],
   "source": [
    "# how to access the elements from above list:"
   ]
  },
  {
   "cell_type": "code",
   "execution_count": null,
   "id": "0d306477",
   "metadata": {},
   "outputs": [],
   "source": [
    "introcing to indexing : 0,1,2,3,4,5,....."
   ]
  },
  {
   "cell_type": "code",
   "execution_count": null,
   "id": "c6c03545",
   "metadata": {},
   "outputs": [],
   "source": []
  },
  {
   "cell_type": "code",
   "execution_count": null,
   "id": "17694675",
   "metadata": {},
   "outputs": [],
   "source": [
    "#req: want access ali from the list..."
   ]
  },
  {
   "cell_type": "code",
   "execution_count": 5,
   "id": "3bcb59f4",
   "metadata": {},
   "outputs": [
    {
     "name": "stdout",
     "output_type": "stream",
     "text": [
      "ali\n"
     ]
    }
   ],
   "source": [
    "print(students[2])"
   ]
  },
  {
   "cell_type": "code",
   "execution_count": null,
   "id": "2f2f9314",
   "metadata": {},
   "outputs": [],
   "source": [
    "#req: want to access reha from the list..."
   ]
  },
  {
   "cell_type": "code",
   "execution_count": 6,
   "id": "7a4123ee",
   "metadata": {},
   "outputs": [
    {
     "name": "stdout",
     "output_type": "stream",
     "text": [
      "reha\n"
     ]
    }
   ],
   "source": [
    "print(students[4])"
   ]
  },
  {
   "cell_type": "code",
   "execution_count": null,
   "id": "5a244760",
   "metadata": {},
   "outputs": [],
   "source": []
  },
  {
   "cell_type": "code",
   "execution_count": null,
   "id": "8df53432",
   "metadata": {},
   "outputs": [],
   "source": [
    "* 1. How to add new elements to the list: "
   ]
  },
  {
   "cell_type": "code",
   "execution_count": null,
   "id": "50e3c26f",
   "metadata": {},
   "outputs": [],
   "source": [
    "#req: Add saba name in the above students list,"
   ]
  },
  {
   "cell_type": "code",
   "execution_count": 7,
   "id": "068d7621",
   "metadata": {},
   "outputs": [],
   "source": [
    "students.append('saba')"
   ]
  },
  {
   "cell_type": "code",
   "execution_count": 10,
   "id": "c426c24a",
   "metadata": {},
   "outputs": [
    {
     "name": "stdout",
     "output_type": "stream",
     "text": [
      "['amar', 'zain', 'ali', 'sam', 'reha', 'ahmar', 'saba']\n"
     ]
    }
   ],
   "source": [
    "print(students)"
   ]
  },
  {
   "cell_type": "code",
   "execution_count": null,
   "id": "84a8b9a9",
   "metadata": {},
   "outputs": [],
   "source": [
    "#req: Add falak name in the above students list,"
   ]
  },
  {
   "cell_type": "code",
   "execution_count": 11,
   "id": "fa7f0104",
   "metadata": {},
   "outputs": [],
   "source": [
    "students.append('falak')"
   ]
  },
  {
   "cell_type": "code",
   "execution_count": 12,
   "id": "46ac588f",
   "metadata": {},
   "outputs": [
    {
     "name": "stdout",
     "output_type": "stream",
     "text": [
      "['amar', 'zain', 'ali', 'sam', 'reha', 'ahmar', 'saba', 'falak']\n"
     ]
    }
   ],
   "source": [
    "print(students)"
   ]
  },
  {
   "cell_type": "code",
   "execution_count": null,
   "id": "6c4ef9c6",
   "metadata": {},
   "outputs": [],
   "source": []
  },
  {
   "cell_type": "code",
   "execution_count": null,
   "id": "54441277",
   "metadata": {},
   "outputs": [],
   "source": [
    "#req: Want add poonam to the 3 index position,"
   ]
  },
  {
   "cell_type": "code",
   "execution_count": 13,
   "id": "123d3d53",
   "metadata": {},
   "outputs": [],
   "source": [
    "students.insert(3,'poonam')"
   ]
  },
  {
   "cell_type": "code",
   "execution_count": 14,
   "id": "d6a31b6b",
   "metadata": {},
   "outputs": [
    {
     "name": "stdout",
     "output_type": "stream",
     "text": [
      "['amar', 'zain', 'ali', 'poonam', 'sam', 'reha', 'ahmar', 'saba', 'falak']\n"
     ]
    }
   ],
   "source": [
    "print(students)"
   ]
  },
  {
   "cell_type": "code",
   "execution_count": 15,
   "id": "63ec9923",
   "metadata": {},
   "outputs": [
    {
     "name": "stdout",
     "output_type": "stream",
     "text": [
      "poonam\n"
     ]
    }
   ],
   "source": [
    "print(students[3])"
   ]
  },
  {
   "cell_type": "code",
   "execution_count": null,
   "id": "1373b66e",
   "metadata": {},
   "outputs": [],
   "source": []
  },
  {
   "cell_type": "code",
   "execution_count": null,
   "id": "8f57a866",
   "metadata": {},
   "outputs": [],
   "source": [
    "* 2. How to modify the elements in the list:"
   ]
  },
  {
   "cell_type": "code",
   "execution_count": 17,
   "id": "f4b49f1a",
   "metadata": {},
   "outputs": [
    {
     "name": "stdout",
     "output_type": "stream",
     "text": [
      "['amar', 'zain', 'ali', 'poonam', 'sam', 'reha', 'ahmar', 'saba', 'falak']\n"
     ]
    }
   ],
   "source": [
    "print(students)"
   ]
  },
  {
   "cell_type": "code",
   "execution_count": null,
   "id": "f69e400c",
   "metadata": {},
   "outputs": [],
   "source": [
    "#req: want to modify amar name to virat,"
   ]
  },
  {
   "cell_type": "code",
   "execution_count": 18,
   "id": "146a9145",
   "metadata": {},
   "outputs": [],
   "source": [
    "students[0] = 'virat'"
   ]
  },
  {
   "cell_type": "code",
   "execution_count": 19,
   "id": "1a729818",
   "metadata": {},
   "outputs": [
    {
     "name": "stdout",
     "output_type": "stream",
     "text": [
      "['virat', 'zain', 'ali', 'poonam', 'sam', 'reha', 'ahmar', 'saba', 'falak']\n"
     ]
    }
   ],
   "source": [
    "print(students)"
   ]
  },
  {
   "cell_type": "code",
   "execution_count": null,
   "id": "47dcf29e",
   "metadata": {},
   "outputs": [],
   "source": []
  },
  {
   "cell_type": "code",
   "execution_count": null,
   "id": "1c98fd28",
   "metadata": {},
   "outputs": [],
   "source": [
    "* 3. How to delete the elements in the list:"
   ]
  },
  {
   "cell_type": "code",
   "execution_count": null,
   "id": "f1da6040",
   "metadata": {},
   "outputs": [],
   "source": [
    "#req: Want to delete  sam from the list,"
   ]
  },
  {
   "cell_type": "code",
   "execution_count": 20,
   "id": "8a0f4389",
   "metadata": {},
   "outputs": [],
   "source": [
    "del students[4]"
   ]
  },
  {
   "cell_type": "code",
   "execution_count": 21,
   "id": "11028ac1",
   "metadata": {},
   "outputs": [
    {
     "name": "stdout",
     "output_type": "stream",
     "text": [
      "['virat', 'zain', 'ali', 'poonam', 'reha', 'ahmar', 'saba', 'falak']\n"
     ]
    }
   ],
   "source": [
    "print(students)"
   ]
  },
  {
   "cell_type": "code",
   "execution_count": null,
   "id": "c72bd18b",
   "metadata": {},
   "outputs": [],
   "source": []
  },
  {
   "cell_type": "code",
   "execution_count": null,
   "id": "58acd1a9",
   "metadata": {},
   "outputs": [],
   "source": []
  },
  {
   "cell_type": "code",
   "execution_count": null,
   "id": "722d0836",
   "metadata": {},
   "outputs": [],
   "source": [
    "#temparory deleting the elements in the list:"
   ]
  },
  {
   "cell_type": "code",
   "execution_count": null,
   "id": "26803813",
   "metadata": {},
   "outputs": [],
   "source": [
    "pop() => it will be deleting the items temp.\n",
    "\n",
    "It will be creating a carbon copy of the deleted items.\n",
    "\n",
    "By default pop method will be deleting the items from the last in the list elements.\n",
    "\n",
    "We can aslo delete the custom index that we want to delete in the parenthesis of the pop method.\n"
   ]
  },
  {
   "cell_type": "code",
   "execution_count": 22,
   "id": "38c758ee",
   "metadata": {},
   "outputs": [
    {
     "name": "stdout",
     "output_type": "stream",
     "text": [
      "['virat', 'zain', 'ali', 'poonam', 'reha', 'ahmar', 'saba', 'falak']\n"
     ]
    }
   ],
   "source": [
    "print(students)"
   ]
  },
  {
   "cell_type": "code",
   "execution_count": null,
   "id": "bbc87e01",
   "metadata": {},
   "outputs": [],
   "source": []
  },
  {
   "cell_type": "code",
   "execution_count": 23,
   "id": "25b86e9c",
   "metadata": {},
   "outputs": [],
   "source": [
    "x = students.pop()"
   ]
  },
  {
   "cell_type": "code",
   "execution_count": 24,
   "id": "1902555d",
   "metadata": {},
   "outputs": [
    {
     "name": "stdout",
     "output_type": "stream",
     "text": [
      "['virat', 'zain', 'ali', 'poonam', 'reha', 'ahmar', 'saba']\n"
     ]
    }
   ],
   "source": [
    "print(students)"
   ]
  },
  {
   "cell_type": "code",
   "execution_count": 25,
   "id": "ad853d26",
   "metadata": {},
   "outputs": [
    {
     "name": "stdout",
     "output_type": "stream",
     "text": [
      "falak\n"
     ]
    }
   ],
   "source": [
    "print(x)"
   ]
  },
  {
   "cell_type": "code",
   "execution_count": null,
   "id": "f07d962b",
   "metadata": {},
   "outputs": [],
   "source": []
  },
  {
   "cell_type": "code",
   "execution_count": 26,
   "id": "7df62ed0",
   "metadata": {},
   "outputs": [],
   "source": [
    "a = students.pop(2)"
   ]
  },
  {
   "cell_type": "code",
   "execution_count": 27,
   "id": "82fa1704",
   "metadata": {},
   "outputs": [
    {
     "name": "stdout",
     "output_type": "stream",
     "text": [
      "['virat', 'zain', 'poonam', 'reha', 'ahmar', 'saba']\n"
     ]
    }
   ],
   "source": [
    "print(students)"
   ]
  },
  {
   "cell_type": "code",
   "execution_count": 28,
   "id": "28ae1fec",
   "metadata": {},
   "outputs": [
    {
     "name": "stdout",
     "output_type": "stream",
     "text": [
      "ali\n"
     ]
    }
   ],
   "source": [
    "print(a)"
   ]
  },
  {
   "cell_type": "code",
   "execution_count": null,
   "id": "e0f6ef68",
   "metadata": {},
   "outputs": [],
   "source": []
  },
  {
   "cell_type": "code",
   "execution_count": 29,
   "id": "ea0e57af",
   "metadata": {},
   "outputs": [],
   "source": [
    "b = students.pop(5)"
   ]
  },
  {
   "cell_type": "code",
   "execution_count": 30,
   "id": "891ff963",
   "metadata": {},
   "outputs": [
    {
     "name": "stdout",
     "output_type": "stream",
     "text": [
      "['virat', 'zain', 'poonam', 'reha', 'ahmar']\n"
     ]
    }
   ],
   "source": [
    "print(students)"
   ]
  },
  {
   "cell_type": "code",
   "execution_count": 31,
   "id": "81180fdd",
   "metadata": {},
   "outputs": [
    {
     "name": "stdout",
     "output_type": "stream",
     "text": [
      "saba\n"
     ]
    }
   ],
   "source": [
    "print(b)"
   ]
  },
  {
   "cell_type": "code",
   "execution_count": null,
   "id": "585a82f6",
   "metadata": {},
   "outputs": [],
   "source": []
  }
 ],
 "metadata": {
  "kernelspec": {
   "display_name": "Python 3",
   "language": "python",
   "name": "python3"
  },
  "language_info": {
   "codemirror_mode": {
    "name": "ipython",
    "version": 3
   },
   "file_extension": ".py",
   "mimetype": "text/x-python",
   "name": "python",
   "nbconvert_exporter": "python",
   "pygments_lexer": "ipython3",
   "version": "3.8.8"
  }
 },
 "nbformat": 4,
 "nbformat_minor": 5
}
